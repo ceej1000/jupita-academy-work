{
 "cells": [
  {
   "cell_type": "markdown",
   "id": "346f1d26",
   "metadata": {},
   "source": [
    "#### Student Infomation Management System"
   ]
  },
  {
   "cell_type": "markdown",
   "id": "10861aba",
   "metadata": {},
   "source": [
    "####### Grade 1 Students = 25\n",
    "        Grade 2 Students = 30\n",
    "        Grade 3 Students = 28"
   ]
  },
  {
   "cell_type": "code",
   "execution_count": 9,
   "id": "b06e3ee8",
   "metadata": {},
   "outputs": [],
   "source": [
    "#### total number of students = 25+30+28 \n"
   ]
  },
  {
   "cell_type": "code",
   "execution_count": 10,
   "id": "4575f9ac",
   "metadata": {},
   "outputs": [
    {
     "data": {
      "text/plain": [
       "83"
      ]
     },
     "execution_count": 10,
     "metadata": {},
     "output_type": "execute_result"
    }
   ],
   "source": [
    "25+30+28"
   ]
  },
  {
   "cell_type": "code",
   "execution_count": 11,
   "id": "056850ba",
   "metadata": {},
   "outputs": [],
   "source": [
    "### average number of students per grade = 85/25, 85/30, 85/28"
   ]
  },
  {
   "cell_type": "code",
   "execution_count": 12,
   "id": "ca45bae5",
   "metadata": {},
   "outputs": [
    {
     "data": {
      "text/plain": [
       "3.4"
      ]
     },
     "execution_count": 12,
     "metadata": {},
     "output_type": "execute_result"
    }
   ],
   "source": [
    "85/25"
   ]
  },
  {
   "cell_type": "code",
   "execution_count": 13,
   "id": "df7d4842",
   "metadata": {},
   "outputs": [
    {
     "data": {
      "text/plain": [
       "2.8333333333333335"
      ]
     },
     "execution_count": 13,
     "metadata": {},
     "output_type": "execute_result"
    }
   ],
   "source": [
    "85/30"
   ]
  },
  {
   "cell_type": "code",
   "execution_count": 14,
   "id": "4ca75e8a",
   "metadata": {},
   "outputs": [
    {
     "data": {
      "text/plain": [
       "3.0357142857142856"
      ]
     },
     "execution_count": 14,
     "metadata": {},
     "output_type": "execute_result"
    }
   ],
   "source": [
    "85/28"
   ]
  },
  {
   "cell_type": "markdown",
   "id": "5e1f3a54",
   "metadata": {},
   "source": [
    "#### Variable Assignment"
   ]
  },
  {
   "cell_type": "code",
   "execution_count": 22,
   "id": "d79790c4",
   "metadata": {},
   "outputs": [],
   "source": [
    "Grade_1 = \"Welcome to Grade 1! We are excited to have you.\"\n",
    "Grade_2 = \"Hello Grade 2 students! Get ready to learn and have fun.\"\n",
    "Grade_3 = \"Welcome Grade 3 students. Let's make this a great year of learning.\""
   ]
  },
  {
   "cell_type": "code",
   "execution_count": 23,
   "id": "482b6eed",
   "metadata": {},
   "outputs": [
    {
     "name": "stdout",
     "output_type": "stream",
     "text": [
      "Hello Grade 2 students! Get ready to learn and have fun.\n"
     ]
    }
   ],
   "source": [
    "print(Grade_2)"
   ]
  },
  {
   "cell_type": "markdown",
   "id": "1170863d",
   "metadata": {},
   "source": [
    "#### Lists and Dictionaries"
   ]
  },
  {
   "cell_type": "code",
   "execution_count": 24,
   "id": "887b42aa",
   "metadata": {},
   "outputs": [],
   "source": [
    "import pandas as pd\n",
    "import numpy as np"
   ]
  },
  {
   "cell_type": "code",
   "execution_count": 37,
   "id": "66edc44d",
   "metadata": {},
   "outputs": [],
   "source": [
    "Grade_list= ['Grade 1', 'Grade 2', 'Grade 3']\n",
    "\n",
    "Grade_1 =['Math', 'English', 'Science' ]\n",
    "Grade_2 =['English', 'Science', 'History']\n",
    "Grade_3 =['Science', 'History', 'Math']\n",
    "\n",
    "d = {\n",
    "    'grade 1': ['Mr. Smith', 'Ms. Johnson', 'Mr. Davis'],\n",
    "    'grade 2': ['Ms. Williams', 'Mr.Davis', 'Ms. Brown' ],\n",
    "    'grade 3': ['Ms. Davis', 'Mr. Johnson', 'Mr. Smith']  \n",
    "}"
   ]
  },
  {
   "cell_type": "code",
   "execution_count": 26,
   "id": "aa0d5250",
   "metadata": {},
   "outputs": [
    {
     "name": "stdout",
     "output_type": "stream",
     "text": [
      "['Science', 'History', 'Math']\n"
     ]
    }
   ],
   "source": [
    "print(Grade_3)"
   ]
  },
  {
   "cell_type": "code",
   "execution_count": 56,
   "id": "05a198a4",
   "metadata": {},
   "outputs": [
    {
     "data": {
      "text/plain": [
       "['Ms. Williams', 'Mr.Davis', 'Ms. Brown']"
      ]
     },
     "execution_count": 56,
     "metadata": {},
     "output_type": "execute_result"
    }
   ],
   "source": [
    "d.get('grade 2')"
   ]
  },
  {
   "cell_type": "code",
   "execution_count": null,
   "id": "dbc38bab",
   "metadata": {},
   "outputs": [],
   "source": []
  }
 ],
 "metadata": {
  "kernelspec": {
   "display_name": "Python 3 (ipykernel)",
   "language": "python",
   "name": "python3"
  },
  "language_info": {
   "codemirror_mode": {
    "name": "ipython",
    "version": 3
   },
   "file_extension": ".py",
   "mimetype": "text/x-python",
   "name": "python",
   "nbconvert_exporter": "python",
   "pygments_lexer": "ipython3",
   "version": "3.11.5"
  }
 },
 "nbformat": 4,
 "nbformat_minor": 5
}
